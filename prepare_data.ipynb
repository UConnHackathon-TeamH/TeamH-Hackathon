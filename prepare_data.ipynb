{
 "cells": [
  {
   "cell_type": "code",
   "execution_count": 1,
   "metadata": {},
   "outputs": [],
   "source": [
    "import pandas as pd\n",
    "import numpy as np\n",
    "import matplotlib.pyplot as plt"
   ]
  },
  {
   "cell_type": "code",
   "execution_count": 4,
   "metadata": {},
   "outputs": [],
   "source": [
    "data = pd.read_csv(\"eth.usd.2018.csv\", parse_dates=['1514764812'], index_col=\"1514764812\")"
   ]
  },
  {
   "cell_type": "code",
   "execution_count": 5,
   "metadata": {},
   "outputs": [
    {
     "data": {
      "text/html": [
       "<div>\n",
       "<style scoped>\n",
       "    .dataframe tbody tr th:only-of-type {\n",
       "        vertical-align: middle;\n",
       "    }\n",
       "\n",
       "    .dataframe tbody tr th {\n",
       "        vertical-align: top;\n",
       "    }\n",
       "\n",
       "    .dataframe thead th {\n",
       "        text-align: right;\n",
       "    }\n",
       "</style>\n",
       "<table border=\"1\" class=\"dataframe\">\n",
       "  <thead>\n",
       "    <tr style=\"text-align: right;\">\n",
       "      <th></th>\n",
       "      <th>iehx-eth-usd</th>\n",
       "      <th>742.015307516736</th>\n",
       "      <th>0.296651540453756</th>\n",
       "    </tr>\n",
       "    <tr>\n",
       "      <th>1514764812</th>\n",
       "      <th></th>\n",
       "      <th></th>\n",
       "      <th></th>\n",
       "    </tr>\n",
       "  </thead>\n",
       "  <tbody>\n",
       "    <tr>\n",
       "      <th>1.514765e+09</th>\n",
       "      <td>iehx-eth-usd</td>\n",
       "      <td>742.272462</td>\n",
       "      <td>0.000000</td>\n",
       "    </tr>\n",
       "    <tr>\n",
       "      <th>1.514765e+09</th>\n",
       "      <td>vehx-eth-usd</td>\n",
       "      <td>742.037945</td>\n",
       "      <td>0.000000</td>\n",
       "    </tr>\n",
       "    <tr>\n",
       "      <th>1.514765e+09</th>\n",
       "      <td>bfnx-eth-usd</td>\n",
       "      <td>736.500000</td>\n",
       "      <td>1.862383</td>\n",
       "    </tr>\n",
       "    <tr>\n",
       "      <th>1.514765e+09</th>\n",
       "      <td>stmp-eth-usd</td>\n",
       "      <td>743.500000</td>\n",
       "      <td>10.000000</td>\n",
       "    </tr>\n",
       "    <tr>\n",
       "      <th>1.514765e+09</th>\n",
       "      <td>iehx-eth-usd</td>\n",
       "      <td>742.340138</td>\n",
       "      <td>0.000000</td>\n",
       "    </tr>\n",
       "    <tr>\n",
       "      <th>...</th>\n",
       "      <td>...</td>\n",
       "      <td>...</td>\n",
       "      <td>...</td>\n",
       "    </tr>\n",
       "    <tr>\n",
       "      <th>1.546301e+09</th>\n",
       "      <td>iehx-eth-usd</td>\n",
       "      <td>130.807024</td>\n",
       "      <td>0.000000</td>\n",
       "    </tr>\n",
       "    <tr>\n",
       "      <th>1.546301e+09</th>\n",
       "      <td>prme-eth-usd</td>\n",
       "      <td>130.660000</td>\n",
       "      <td>6.543876</td>\n",
       "    </tr>\n",
       "    <tr>\n",
       "      <th>1.546301e+09</th>\n",
       "      <td>prme-eth-usd</td>\n",
       "      <td>130.660000</td>\n",
       "      <td>0.382600</td>\n",
       "    </tr>\n",
       "    <tr>\n",
       "      <th>1.546301e+09</th>\n",
       "      <td>base-eth-usd</td>\n",
       "      <td>130.660000</td>\n",
       "      <td>6.543876</td>\n",
       "    </tr>\n",
       "    <tr>\n",
       "      <th>1.546301e+09</th>\n",
       "      <td>base-eth-usd</td>\n",
       "      <td>130.660000</td>\n",
       "      <td>0.382600</td>\n",
       "    </tr>\n",
       "  </tbody>\n",
       "</table>\n",
       "<p>96620392 rows × 3 columns</p>\n",
       "</div>"
      ],
      "text/plain": [
       "              iehx-eth-usd  742.015307516736  0.296651540453756\n",
       "1514764812                                                     \n",
       "1.514765e+09  iehx-eth-usd        742.272462           0.000000\n",
       "1.514765e+09  vehx-eth-usd        742.037945           0.000000\n",
       "1.514765e+09  bfnx-eth-usd        736.500000           1.862383\n",
       "1.514765e+09  stmp-eth-usd        743.500000          10.000000\n",
       "1.514765e+09  iehx-eth-usd        742.340138           0.000000\n",
       "...                    ...               ...                ...\n",
       "1.546301e+09  iehx-eth-usd        130.807024           0.000000\n",
       "1.546301e+09  prme-eth-usd        130.660000           6.543876\n",
       "1.546301e+09  prme-eth-usd        130.660000           0.382600\n",
       "1.546301e+09  base-eth-usd        130.660000           6.543876\n",
       "1.546301e+09  base-eth-usd        130.660000           0.382600\n",
       "\n",
       "[96620392 rows x 3 columns]"
      ]
     },
     "execution_count": 5,
     "metadata": {},
     "output_type": "execute_result"
    }
   ],
   "source": [
    "data"
   ]
  },
  {
   "cell_type": "code",
   "execution_count": 6,
   "metadata": {},
   "outputs": [
    {
     "name": "stdout",
     "output_type": "stream",
     "text": [
      "<class 'pandas.core.frame.DataFrame'>\n",
      "Float64Index: 96620392 entries, 1514764800.0 to 1546300764.0\n",
      "Data columns (total 3 columns):\n",
      " #   Column             Dtype  \n",
      "---  ------             -----  \n",
      " 0   iehx-eth-usd       object \n",
      " 1   742.015307516736   float64\n",
      " 2   0.296651540453756  float64\n",
      "dtypes: float64(2), object(1)\n",
      "memory usage: 2.9+ GB\n"
     ]
    }
   ],
   "source": [
    "data.info()"
   ]
  },
  {
   "cell_type": "code",
   "execution_count": 9,
   "metadata": {},
   "outputs": [
    {
     "data": {
      "text/plain": [
       "'iehx-eth-usd'"
      ]
     },
     "execution_count": 9,
     "metadata": {},
     "output_type": "execute_result"
    }
   ],
   "source": [
    "symbol = data.columns[0]\n",
    "symbol"
   ]
  },
  {
   "cell_type": "code",
   "execution_count": 11,
   "metadata": {},
   "outputs": [
    {
     "data": {
      "text/plain": [
       "1514764812\n",
       "1.514765e+09    742.272462\n",
       "1.514765e+09    742.037945\n",
       "1.514765e+09    736.500000\n",
       "1.514765e+09    743.500000\n",
       "1.514765e+09    742.340138\n",
       "                   ...    \n",
       "1.546301e+09    130.807024\n",
       "1.546301e+09    130.660000\n",
       "1.546301e+09    130.660000\n",
       "1.546301e+09    130.660000\n",
       "1.546301e+09    130.660000\n",
       "Name: 742.015307516736, Length: 96620392, dtype: float64"
      ]
     },
     "execution_count": 11,
     "metadata": {},
     "output_type": "execute_result"
    }
   ],
   "source": [
    "eth_price_time = data.iloc[:, 1]\n",
    "eth_price_time"
   ]
  },
  {
   "cell_type": "code",
   "execution_count": 10,
   "metadata": {},
   "outputs": [
    {
     "data": {
      "image/png": "[encoded data removed]",
      "text/plain": [
       "<Figure size 864x576 with 1 Axes>"
      ]
     },
     "metadata": {
      "needs_background": "light"
     },
     "output_type": "display_data"
    }
   ],
   "source": [
    "eth_price_time.plot(figsize=(12, 8))\n",
    "plt.show()"
   ]
  },
  {
   "cell_type": "code",
   "execution_count": null,
   "metadata": {},
   "outputs": [],
   "source": []
  }
 ],
 "metadata": {
  "interpreter": {
   "hash": "9a2a67ec8613d4fe838519aa4301bcae5e92cc04c78068c58b9a9e1e7c71b4d1"
  },
  "kernelspec": {
   "display_name": "Python 3.10.2 ('.venv': venv)",
   "language": "python",
   "name": "python3"
  },
  "language_info": {
   "codemirror_mode": {
    "name": "ipython",
    "version": 3
   },
   "file_extension": ".py",
   "mimetype": "text/x-python",
   "name": "python",
   "nbconvert_exporter": "python",
   "pygments_lexer": "ipython3",
   "version": "3.6.13"
  },
  "orig_nbformat": 4
 },
 "nbformat": 4,
 "nbformat_minor": 2
}
