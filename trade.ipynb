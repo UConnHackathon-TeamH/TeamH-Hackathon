{
 "cells": [
  {
   "cell_type": "code",
   "execution_count": 1,
   "metadata": {},
   "outputs": [],
   "source": [
    "import pandas as pd\n",
    "import numpy as np\n",
    "from datetime import datetime, timedelta\n",
    "import time"
   ]
  },
  {
   "cell_type": "code",
   "execution_count": 2,
   "metadata": {},
   "outputs": [],
   "source": [
    "header_list = [\"eth-usd\", \"price\", \"volume\", \"timestamp\"]\n",
    "data_2 = pd.read_csv(\"eth.usd.2018.csv\", names = header_list)\n",
    "data_2 = data_2.truncate(after = 100000)"
   ]
  },
  {
   "cell_type": "code",
   "execution_count": 356,
   "metadata": {},
   "outputs": [
    {
     "data": {
      "text/plain": [
       "pandas.core.frame.DataFrame"
      ]
     },
     "execution_count": 356,
     "metadata": {},
     "output_type": "execute_result"
    }
   ],
   "source": [
    "type(data_2.head(1))"
   ]
  },
  {
   "cell_type": "code",
   "execution_count": 3,
   "metadata": {},
   "outputs": [
    {
     "name": "stderr",
     "output_type": "stream",
     "text": [
      "Using TensorFlow backend.\n"
     ]
    },
    {
     "name": "stdout",
     "output_type": "stream",
     "text": [
      "WARNING:tensorflow:From /home/ubuntu/anaconda3/envs/aws_neuron_tensorflow_p36/lib/python3.6/site-packages/keras/backend/tensorflow_backend.py:517: The name tf.placeholder is deprecated. Please use tf.compat.v1.placeholder instead.\n",
      "\n",
      "WARNING:tensorflow:From /home/ubuntu/anaconda3/envs/aws_neuron_tensorflow_p36/lib/python3.6/site-packages/keras/backend/tensorflow_backend.py:4138: The name tf.random_uniform is deprecated. Please use tf.random.uniform instead.\n",
      "\n",
      "WARNING:tensorflow:From /home/ubuntu/anaconda3/envs/aws_neuron_tensorflow_p36/lib/python3.6/site-packages/keras/backend/tensorflow_backend.py:131: The name tf.get_default_graph is deprecated. Please use tf.compat.v1.get_default_graph instead.\n",
      "\n",
      "WARNING:tensorflow:From /home/ubuntu/anaconda3/envs/aws_neuron_tensorflow_p36/lib/python3.6/site-packages/keras/backend/tensorflow_backend.py:133: The name tf.placeholder_with_default is deprecated. Please use tf.compat.v1.placeholder_with_default instead.\n",
      "\n",
      "WARNING:tensorflow:From /home/ubuntu/anaconda3/envs/aws_neuron_tensorflow_p36/lib/python3.6/site-packages/keras/backend/tensorflow_backend.py:3445: calling dropout (from tensorflow.python.ops.nn_ops) with keep_prob is deprecated and will be removed in a future version.\n",
      "Instructions for updating:\n",
      "Please use `rate` instead of `keep_prob`. Rate should be set to `rate = 1 - keep_prob`.\n",
      "WARNING:tensorflow:From /home/ubuntu/anaconda3/envs/aws_neuron_tensorflow_p36/lib/python3.6/site-packages/keras/backend/tensorflow_backend.py:174: The name tf.get_default_session is deprecated. Please use tf.compat.v1.get_default_session instead.\n",
      "\n",
      "WARNING:tensorflow:From /home/ubuntu/anaconda3/envs/aws_neuron_tensorflow_p36/lib/python3.6/site-packages/keras/backend/tensorflow_backend.py:181: The name tf.ConfigProto is deprecated. Please use tf.compat.v1.ConfigProto instead.\n",
      "\n",
      "WARNING:tensorflow:From /home/ubuntu/anaconda3/envs/aws_neuron_tensorflow_p36/lib/python3.6/site-packages/keras/backend/tensorflow_backend.py:186: The name tf.Session is deprecated. Please use tf.compat.v1.Session instead.\n",
      "\n",
      "WARNING:tensorflow:From /home/ubuntu/anaconda3/envs/aws_neuron_tensorflow_p36/lib/python3.6/site-packages/keras/backend/tensorflow_backend.py:190: The name tf.global_variables is deprecated. Please use tf.compat.v1.global_variables instead.\n",
      "\n",
      "WARNING:tensorflow:From /home/ubuntu/anaconda3/envs/aws_neuron_tensorflow_p36/lib/python3.6/site-packages/keras/backend/tensorflow_backend.py:199: The name tf.is_variable_initialized is deprecated. Please use tf.compat.v1.is_variable_initialized instead.\n",
      "\n",
      "WARNING:tensorflow:From /home/ubuntu/anaconda3/envs/aws_neuron_tensorflow_p36/lib/python3.6/site-packages/keras/backend/tensorflow_backend.py:206: The name tf.variables_initializer is deprecated. Please use tf.compat.v1.variables_initializer instead.\n",
      "\n",
      "WARNING:tensorflow:From /home/ubuntu/anaconda3/envs/aws_neuron_tensorflow_p36/lib/python3.6/site-packages/keras/optimizers.py:794: The name tf.train.Optimizer is deprecated. Please use tf.compat.v1.train.Optimizer instead.\n",
      "\n",
      "WARNING:tensorflow:From /home/ubuntu/anaconda3/envs/aws_neuron_tensorflow_p36/lib/python3.6/site-packages/keras/backend/tensorflow_backend.py:3376: The name tf.log is deprecated. Please use tf.math.log instead.\n",
      "\n",
      "WARNING:tensorflow:From /home/ubuntu/anaconda3/envs/aws_neuron_tensorflow_p36/lib/python3.6/site-packages/tensorflow_core/python/ops/nn_impl.py:183: where (from tensorflow.python.ops.array_ops) is deprecated and will be removed in a future version.\n",
      "Instructions for updating:\n",
      "Use tf.where in 2.0, which has the same broadcast rule as np.where\n",
      "WARNING:tensorflow:From /home/ubuntu/anaconda3/envs/aws_neuron_tensorflow_p36/lib/python3.6/site-packages/keras/backend/tensorflow_backend.py:986: The name tf.assign_add is deprecated. Please use tf.compat.v1.assign_add instead.\n",
      "\n",
      "WARNING:tensorflow:From /home/ubuntu/anaconda3/envs/aws_neuron_tensorflow_p36/lib/python3.6/site-packages/keras/backend/tensorflow_backend.py:973: The name tf.assign is deprecated. Please use tf.compat.v1.assign instead.\n",
      "\n"
     ]
    }
   ],
   "source": [
    "import keras\n",
    "model = keras.models.load_model(\"DNN_model\")"
   ]
  },
  {
   "cell_type": "code",
   "execution_count": 4,
   "metadata": {},
   "outputs": [
    {
     "data": {
      "text/plain": [
       "<keras.engine.sequential.Sequential at 0x7f0efe21d160>"
      ]
     },
     "execution_count": 4,
     "metadata": {},
     "output_type": "execute_result"
    }
   ],
   "source": [
    "model"
   ]
  },
  {
   "cell_type": "code",
   "execution_count": 5,
   "metadata": {},
   "outputs": [],
   "source": [
    "import pickle\n",
    "params = pickle.load(open(\"params.pkl\", \"rb\"))\n",
    "mu = params[\"mu\"]\n",
    "std = params['std']"
   ]
  },
  {
   "cell_type": "code",
   "execution_count": 6,
   "metadata": {},
   "outputs": [
    {
     "data": {
      "text/plain": [
       "price        7.374525e+02\n",
       "volume       1.294626e+00\n",
       "timestamp    1.514778e+09\n",
       "returns      2.208643e-07\n",
       "dir          4.020547e-01\n",
       "sma          8.350337e-03\n",
       "boll                  inf\n",
       "min         -7.912891e-03\n",
       "max          8.473131e-03\n",
       "mom          2.214071e-07\n",
       "vol          5.059674e-03\n",
       "dir_lag1     4.020698e-01\n",
       "dir_lag2     4.020698e-01\n",
       "dir_lag3     4.020850e-01\n",
       "dir_lag4     4.020850e-01\n",
       "dir_lag5     4.020850e-01\n",
       "sma_lag1     8.366884e-03\n",
       "sma_lag2     8.382895e-03\n",
       "sma_lag3     8.399518e-03\n",
       "sma_lag4     8.416712e-03\n",
       "sma_lag5     8.434746e-03\n",
       "min_lag1    -7.912716e-03\n",
       "min_lag2    -7.912542e-03\n",
       "min_lag3    -7.912367e-03\n",
       "min_lag4    -7.912170e-03\n",
       "min_lag5    -7.911943e-03\n",
       "max_lag1     8.473106e-03\n",
       "max_lag2     8.473082e-03\n",
       "max_lag3     8.473059e-03\n",
       "max_lag4     8.473057e-03\n",
       "max_lag5     8.473088e-03\n",
       "mom_lag1     2.289258e-07\n",
       "mom_lag2     2.469307e-07\n",
       "mom_lag3     2.648616e-07\n",
       "mom_lag4     3.154633e-07\n",
       "mom_lag5     3.565515e-07\n",
       "vol_lag1     5.059628e-03\n",
       "vol_lag2     5.059586e-03\n",
       "vol_lag3     5.059543e-03\n",
       "vol_lag4     5.059501e-03\n",
       "vol_lag5     5.059459e-03\n",
       "dtype: float64"
      ]
     },
     "execution_count": 6,
     "metadata": {},
     "output_type": "execute_result"
    }
   ],
   "source": [
    "mu"
   ]
  },
  {
   "cell_type": "code",
   "execution_count": 7,
   "metadata": {},
   "outputs": [
    {
     "data": {
      "text/plain": [
       "price           7.764555\n",
       "volume          7.599794\n",
       "timestamp    7145.471525\n",
       "returns         0.005315\n",
       "dir             0.490317\n",
       "sma             0.743618\n",
       "boll                 NaN\n",
       "min             0.005312\n",
       "max             0.005891\n",
       "mom             0.001938\n",
       "vol             0.001790\n",
       "dir_lag1        0.490320\n",
       "dir_lag2        0.490320\n",
       "dir_lag3        0.490323\n",
       "dir_lag4        0.490323\n",
       "dir_lag5        0.490323\n",
       "sma_lag1        0.743613\n",
       "sma_lag2        0.743608\n",
       "sma_lag3        0.743602\n",
       "sma_lag4        0.743597\n",
       "sma_lag5        0.743592\n",
       "min_lag1        0.005312\n",
       "min_lag2        0.005312\n",
       "min_lag3        0.005312\n",
       "min_lag4        0.005312\n",
       "min_lag5        0.005312\n",
       "max_lag1        0.005891\n",
       "max_lag2        0.005891\n",
       "max_lag3        0.005891\n",
       "max_lag4        0.005891\n",
       "max_lag5        0.005891\n",
       "mom_lag1        0.001938\n",
       "mom_lag2        0.001938\n",
       "mom_lag3        0.001938\n",
       "mom_lag4        0.001938\n",
       "mom_lag5        0.001938\n",
       "vol_lag1        0.001790\n",
       "vol_lag2        0.001790\n",
       "vol_lag3        0.001790\n",
       "vol_lag4        0.001790\n",
       "vol_lag5        0.001790\n",
       "dtype: float64"
      ]
     },
     "execution_count": 7,
     "metadata": {},
     "output_type": "execute_result"
    }
   ],
   "source": [
    "std"
   ]
  },
  {
   "cell_type": "code",
   "execution_count": 474,
   "metadata": {},
   "outputs": [],
   "source": [
    "class Predict:\n",
    "    def __init__(self, instrument, window, lags, model, mu, std, start_time=0, user_input=None):\n",
    "        self.user_input = user_input\n",
    "        self.start_time = start_time\n",
    "        self.instrument = instrument\n",
    "        self.window = window\n",
    "        self.lags = lags\n",
    "        self.model = model\n",
    "        self.mu = mu\n",
    "        self.std = std\n",
    "        self.raw_data = None            # review later\n",
    "        #self.tick_data = pd.Dataframe() # review later\n",
    "        self.remaining_fund = 1000000\n",
    "        self.eth_position = 0\n",
    "        self.btc_position = 0\n",
    "\n",
    "    def define_strategy(self):\n",
    "        df = data_2.copy()\n",
    "        df = df.append(self.user_input, ignore_index=True) # append the latest tick\n",
    "        df[\"returns\"] = np.log(df[self.instrument] / df[self.instrument].shift())\n",
    "        df['dir'] = np.where(df['returns'] > 0,1,0)\n",
    "        df[\"sma\"] = df[self.instrument].rolling(self.window).mean() - df[self.instrument].rolling(150).mean()\n",
    "        df[\"min\"] = df[self.instrument].rolling(self.window).min() / df[self.instrument] - 1\n",
    "        df[\"max\"] = df[self.instrument].rolling(self.window).max() / df[self.instrument] - 1\n",
    "        df[\"mom\"] = df[\"returns\"].rolling(3).mean()\n",
    "        df[\"vol\"] = df[\"returns\"].rolling(self.window).std()\n",
    "        df.dropna(inplace = True)\n",
    "        \n",
    "\n",
    "        # create logs\n",
    "        self.cols = []\n",
    "        features = [\"dir\", \"sma\", \"min\", \"max\", \"mom\", \"vol\"]\n",
    "\n",
    "        for f in features:\n",
    "            for lag in range(1, self.lags +1):\n",
    "                col = \"{}_lag_{}\".format(f, lag)\n",
    "                df[col] = df[f].shift(lag)\n",
    "                self.cols.append(col)\n",
    "        df.dropna(inplace=True)\n",
    "\n",
    "        # standardization\n",
    "        self.mu = df.mean()\n",
    "        self.std = df.std()\n",
    "        df_s = (df - self.mu) / self.std\n",
    "        # predict\n",
    "        df[\"proba\"] = self.model.predict(df_s[self.cols])\n",
    "\n",
    "        # Determine position\n",
    "        #df = df.loc[self.start_time:].copy() # remove all historical data\n",
    "        df[\"position\"] = np.where(df.proba < 0.47, 1, np.nan)\n",
    "        df[\"position\"] = np.where(df.proba > 0.53, 1, df.position)\n",
    "        df[\"position\"] = df.position.ffill().fillna(0)\n",
    "\n",
    "        self.data = df.copy()\n",
    "\n",
    "    def add_time(self, time):\n",
    "        self.start_time = time\n",
    "\n",
    "    def add_input(self, user_input):\n",
    "        self.user_input = user_input\n",
    "\n",
    "    def get_recent_df_row(self):\n",
    "        self.define_strategy()\n",
    "        return self.data['proba'].iloc[-1:]\n",
    "\n",
    "    def update_up(self, up1, up2, up3, up4):\n",
    "        self.up_1 = up1\n",
    "        self.up_2 = up2\n",
    "        self.up_3 = up3\n",
    "        self.up_4 = up4\n"
   ]
  },
  {
   "cell_type": "code",
   "execution_count": 475,
   "metadata": {},
   "outputs": [],
   "source": [
    "predict = Predict(instrument='price', window=50, lags=5, model=model, mu=mu, std=std)"
   ]
  },
  {
   "cell_type": "code",
   "execution_count": 476,
   "metadata": {},
   "outputs": [],
   "source": [
    "from typing import Any\n",
    "from io import StringIO"
   ]
  },
  {
   "cell_type": "code",
   "execution_count": 480,
   "metadata": {},
   "outputs": [],
   "source": [
    "def algorithm(csv_row: str):\n",
    "    \"\"\" Trading Algorithm\n",
    "\n",
    "    Add your logic to this function. This function will simulate a streaming\n",
    "    interface with exchange trade data. This function will be called for each\n",
    "    data row received from the stream.\n",
    "\n",
    "    The context object will persist between iterations of your algorithm.\n",
    "\n",
    "    Args:\n",
    "        csv_row (str): one exchange trade (format: \"exchange pair\", \"price\", \"volume\", \"timestamp\")\n",
    "        context (dict[str, Any]): a context that will survive each iteration of the algorithm\n",
    "\n",
    "    Generator:\n",
    "        response (dict): \"Fill\"-type object with information for the current and unfilled trades\n",
    "    \n",
    "    Yield (None | Trade | [Trade]): a trade order/s; None indicates no trade action\n",
    "    \"\"\"\n",
    "    # algorithm logic...\n",
    "    # eth-usd,172,1,1511023123890\n",
    "    #StringData = StringIO(\"\"\"\n",
    "    #eth-usd,price,volume,timestamp\n",
    "    #\"\"\" + csv_row)\n",
    "    #csv_row = pd.read_csv(StringData, sep=',')\n",
    "    #start_time = csv_row.iloc[:,3]\n",
    "    lst = [csv_row.split(\",\")] # lst = ['eth-usd','300','1','1265667778']\n",
    "    lst[0][1] = float(lst[0][1])\n",
    "    lst[0][2] = float(lst[0][2])\n",
    "    lst[0][3] = float(lst[0][3])\n",
    "    csv_row = pd.DataFrame(lst, columns=['pair','price', 'volume','timestamp'])\n",
    "    #predict.add_time(start_time)\n",
    "    predict.add_input(csv_row) # list: [\"eth-usd\",\"172\",\"1\",\"151519237548023\"]\n",
    "    probability = predict.get_recent_df_row()\n",
    "    ticker = lst[0][0][5:8]\n",
    "\n",
    "    #print(probability)\n",
    "    if probability > 0.53:\n",
    "        if predict.remaining_fund >= lst[0][1]:\n",
    "            response = yield Trade(\"BUY\", ticker, Decimal(1))\n",
    "            if ticker == 'btc'\n",
    "                predict.btc_position += 1\n",
    "            else:\n",
    "                predict.eth_position += 1\n",
    "        else:\n",
    "            response = yield None\n",
    "    elif probability < 0.47:\n",
    "        if ticker == 'btc':\n",
    "            if predict.btc_position >= 1:\n",
    "                response = yield Trade(\"SELL\", ticker, Decimal(1))\n",
    "            else:\n",
    "                response = yield None\n",
    "        if ticker == 'eth':\n",
    "            if predict.eth_position >= 1:\n",
    "                response = yield Trade(\"SELL\", ticker, Decimal(1))\n",
    "            else:\n",
    "                response = yield None\n",
    "    else:\n",
    "        response = yield None\n",
    "    #else:\n",
    "    #    response = \"None\"\n",
    "    \n",
    "    #print(response)\n",
    "\n",
    "    \n",
    "    #response = yield None # example: Trade(BUY, 'xbt', Decimal(1))\n",
    "\n",
    "    # algorithm clean-up/error handling..."
   ]
  },
  {
   "cell_type": "code",
   "execution_count": 481,
   "metadata": {},
   "outputs": [
    {
     "name": "stdout",
     "output_type": "stream",
     "text": [
      "Series([], Name: proba, dtype: float64)\n",
      "xbt\n",
      "None\n"
     ]
    }
   ],
   "source": [
    "print(algorithm(\"okfq-xbt-usd,14682.26,2,1514765115\"))"
   ]
  },
  {
   "cell_type": "markdown",
   "metadata": {},
   "source": []
  },
  {
   "cell_type": "code",
   "execution_count": 438,
   "metadata": {},
   "outputs": [
    {
     "data": {
      "text/plain": [
       "eth-usd       object\n",
       "price        float64\n",
       "volume       float64\n",
       "timestamp    float64\n",
       "dtype: object"
      ]
     },
     "execution_count": 438,
     "metadata": {},
     "output_type": "execute_result"
    }
   ],
   "source": [
    "data_2.dtypes"
   ]
  },
  {
   "cell_type": "code",
   "execution_count": null,
   "metadata": {},
   "outputs": [],
   "source": []
  }
 ],
 "metadata": {
  "interpreter": {
   "hash": "0fe4992b326543a149440951730274012c9ebef82678699d28d18512c9b652a0"
  },
  "kernelspec": {
   "display_name": "Python 3.6.13 ('aws_neuron_tensorflow_p36': conda)",
   "language": "python",
   "name": "python3"
  },
  "language_info": {
   "codemirror_mode": {
    "name": "ipython",
    "version": 3
   },
   "file_extension": ".py",
   "mimetype": "text/x-python",
   "name": "python",
   "nbconvert_exporter": "python",
   "pygments_lexer": "ipython3",
   "version": "3.6.13"
  },
  "orig_nbformat": 4
 },
 "nbformat": 4,
 "nbformat_minor": 2
}
